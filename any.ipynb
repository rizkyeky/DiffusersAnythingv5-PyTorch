{
 "cells": [
  {
   "cell_type": "code",
   "execution_count": null,
   "metadata": {},
   "outputs": [],
   "source": [
    "from diffusers import StableDiffusionPipeline, DiffusionPipeline, DDPMScheduler, UNet2DModel\n",
    "import torch\n",
    "from torch.utils.mobile_optimizer import optimize_for_mobile"
   ]
  },
  {
   "cell_type": "code",
   "execution_count": null,
   "metadata": {},
   "outputs": [],
   "source": [
    "path = \"stablediffusionapi/anything-v5\"\n",
    "scheduler = DDPMScheduler.from_pretrained(path)\n",
    "model = UNet2DModel.from_pretrained(path).to(\"cuda\")\n",
    "\n",
    "pipe = StableDiffusionPipeline.from_pretrained(path, torch_dtype=torch.float16, safety_checker=None)\n",
    "pipe = pipe.to(\"cuda\")"
   ]
  },
  {
   "cell_type": "code",
   "execution_count": null,
   "metadata": {},
   "outputs": [],
   "source": [
    "prompt = \"((masterpiece, best quality, ultra-detailed)), close-up, face focus, upper body, blur background, girl, teeneger, school uniform, white shirt, brown hair, medium hair, hair clips, rose eyes, white eyeglasses, cheerful, smart, book\"\n",
    "ne_prompt = \"3d, wet, sailor uniform, pilot uniform, blazer, maid, chest, big chest, tie, very long hair\""
   ]
  },
  {
   "cell_type": "code",
   "execution_count": null,
   "metadata": {},
   "outputs": [],
   "source": [
    "\n",
    "for i in [0,1,2,4,6,8,16,32,64,128,256,512,1024,2048,3072,4096]:\n",
    "    seed = i\n",
    "    images1 = pipe(prompt,\n",
    "                    guidance_scale=9,\n",
    "                    height=640,\n",
    "                    width=640,\n",
    "                    generator=torch.Generator(\"cuda\").manual_seed(seed),\n",
    "                    negative_prompt= ne_prompt,\n",
    "                    num_inference_steps=200,\n",
    "            ).images\n",
    "    images1[0].save('boymaganeblue/boyblue_{}.jpg'.format(seed))"
   ]
  },
  {
   "cell_type": "code",
   "execution_count": null,
   "metadata": {},
   "outputs": [],
   "source": [
    "class Anything5(StableDiffusionPipeline):\n",
    "\n",
    "  def __init__(self):\n",
    "    self.guidance_scale = 9\n",
    "    self.height = 640\n",
    "    self.width = 640\n",
    "    self.generator=torch.Generator(\"cuda\").manual_seed(0)\n",
    "    self.num_inference_steps=200\n",
    "\n",
    "  def forward(self, prompt: str, ne_prompt: str = \"\"):\n",
    "    return super().forward(prompt,\n",
    "                  guidance_scale = self.guidance_scale,\n",
    "                  height = self.height,\n",
    "                  width = self.width,\n",
    "                  generator = self.generator,\n",
    "                  num_inference_steps = self.num_inference_steps,\n",
    "                  ne_prompt = ne_prompt)\n"
   ]
  },
  {
   "cell_type": "code",
   "execution_count": null,
   "metadata": {},
   "outputs": [],
   "source": [
    "device = torch.device('cpu')\n",
    "\n",
    "model = Anything5()\n",
    "model.from_pretrained(\"stablediffusionapi/anything-v5\", torch_dtype=torch.float16, safety_checker=None)\n",
    "\n",
    "model.eval()\n",
    "model = model.to(device)\n",
    "\n",
    "scripted_model = torch.jit.script(model)\n",
    "optimized_model = optimize_for_mobile(scripted_model)\n",
    "optimized_model.save('anything5.pt')"
   ]
  }
 ],
 "metadata": {
  "kernelspec": {
   "display_name": "Python 3 (ipykernel)",
   "language": "python",
   "name": "python3"
  },
  "language_info": {
   "codemirror_mode": {
    "name": "ipython",
    "version": 3
   },
   "file_extension": ".py",
   "mimetype": "text/x-python",
   "name": "python",
   "nbconvert_exporter": "python",
   "pygments_lexer": "ipython3",
   "version": "3.10.12"
  }
 },
 "nbformat": 4,
 "nbformat_minor": 2
}
